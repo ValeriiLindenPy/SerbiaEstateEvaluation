{
 "cells": [
  {
   "cell_type": "code",
   "execution_count": 158,
   "metadata": {},
   "outputs": [],
   "source": [
    "import pandas as pd\n",
    "import numpy as np\n",
    "from matplotlib import pyplot as plt\n",
    "%matplotlib inline\n",
    "import matplotlib\n",
    "matplotlib.rcParams['figure.figsize'] = (20,20)"
   ]
  },
  {
   "cell_type": "code",
   "execution_count": 159,
   "metadata": {},
   "outputs": [],
   "source": [
    "#upload data\n",
    "first_half = pd.read_excel('REdata.xlsx', sheet_name='2023 I half')\n",
    "second_half = pd.read_excel('REdata.xlsx', sheet_name='2023 II half')\n",
    "euro_rate_to_rsd = 117.13"
   ]
  },
  {
   "cell_type": "code",
   "execution_count": 160,
   "metadata": {},
   "outputs": [],
   "source": [
    "#clean data\n",
    "\n",
    "first_half['Average size of dwellings [square metre]'] = first_half['Average size of dwellings [square metre]'].fillna(first_half['Average size of dwellings [square metre]'].mean())\n",
    "first_half['Average price per m² [RSD]'] = first_half['Average price per m² [RSD]'].fillna(first_half['Average price per m² [RSD]'].mean())\n",
    "second_half['Average size of dwellings [square metre]'] = second_half['Average size of dwellings [square metre]'].fillna(first_half['Average size of dwellings [square metre]'].mean())\n",
    "second_half['Average price per m² [RSD]'] = second_half['Average price per m² [RSD]'].fillna(first_half['Average price per m² [RSD]'].mean())\n",
    "\n",
    "year_data = [first_half, second_half]\n",
    "\n"
   ]
  },
  {
   "cell_type": "code",
   "execution_count": 161,
   "metadata": {},
   "outputs": [],
   "source": [
    "#data modification\n",
    "\n",
    "#add price for average size dwellings\n",
    "first_half['Price of average size dwellings']= first_half['Average price per m² [RSD]'] * first_half['Average size of dwellings [square metre]']\n",
    "second_half['Price of average size dwellings']= second_half['Average price per m² [RSD]'] * second_half['Average size of dwellings [square metre]']\n",
    "\n",
    "\n",
    "for half in year_data:\n",
    "    half.rename(columns={'Average price per m² [RSD]': 'Average price per m² [EUR]'}, inplace=True)\n",
    "    half['Average price per m² [EUR]'] /= euro_rate_to_rsd\n",
    "    half['Price of average size dwellings'] /= euro_rate_to_rsd\n",
    "    half['Average price per m² [EUR]'] = half['Average price per m² [EUR]'].round(2)\n",
    "    half['Price of average size dwellings'] = half['Price of average size dwellings'].round(2)\n",
    "\n"
   ]
  },
  {
   "cell_type": "code",
   "execution_count": 162,
   "metadata": {},
   "outputs": [],
   "source": [
    "#combine data\n",
    "summary_data = pd.concat([first_half, second_half], ignore_index=True).groupby('Teritory').mean().reset_index()"
   ]
  },
  {
   "cell_type": "code",
   "execution_count": 163,
   "metadata": {},
   "outputs": [
    {
     "data": {
      "text/html": [
       "<div>\n",
       "<style scoped>\n",
       "    .dataframe tbody tr th:only-of-type {\n",
       "        vertical-align: middle;\n",
       "    }\n",
       "\n",
       "    .dataframe tbody tr th {\n",
       "        vertical-align: top;\n",
       "    }\n",
       "\n",
       "    .dataframe thead th {\n",
       "        text-align: right;\n",
       "    }\n",
       "</style>\n",
       "<table border=\"1\" class=\"dataframe\">\n",
       "  <thead>\n",
       "    <tr style=\"text-align: right;\">\n",
       "      <th></th>\n",
       "      <th>Average size of dwellings [square metre]</th>\n",
       "      <th>Average price per m² [EUR]</th>\n",
       "      <th>Price of average size dwellings</th>\n",
       "    </tr>\n",
       "  </thead>\n",
       "  <tbody>\n",
       "    <tr>\n",
       "      <th>count</th>\n",
       "      <td>169.000000</td>\n",
       "      <td>169.000000</td>\n",
       "      <td>169.000000</td>\n",
       "    </tr>\n",
       "    <tr>\n",
       "      <th>mean</th>\n",
       "      <td>55.261031</td>\n",
       "      <td>1254.245325</td>\n",
       "      <td>69688.998846</td>\n",
       "    </tr>\n",
       "    <tr>\n",
       "      <th>std</th>\n",
       "      <td>5.331891</td>\n",
       "      <td>423.102095</td>\n",
       "      <td>29608.701101</td>\n",
       "    </tr>\n",
       "    <tr>\n",
       "      <th>min</th>\n",
       "      <td>37.000000</td>\n",
       "      <td>430.400000</td>\n",
       "      <td>32310.590000</td>\n",
       "    </tr>\n",
       "    <tr>\n",
       "      <th>25%</th>\n",
       "      <td>54.500000</td>\n",
       "      <td>1145.120000</td>\n",
       "      <td>60069.505000</td>\n",
       "    </tr>\n",
       "    <tr>\n",
       "      <th>50%</th>\n",
       "      <td>54.985714</td>\n",
       "      <td>1243.510000</td>\n",
       "      <td>68375.210000</td>\n",
       "    </tr>\n",
       "    <tr>\n",
       "      <th>75%</th>\n",
       "      <td>54.985714</td>\n",
       "      <td>1243.510000</td>\n",
       "      <td>68375.210000</td>\n",
       "    </tr>\n",
       "    <tr>\n",
       "      <th>max</th>\n",
       "      <td>81.500000</td>\n",
       "      <td>4207.355000</td>\n",
       "      <td>294460.670000</td>\n",
       "    </tr>\n",
       "  </tbody>\n",
       "</table>\n",
       "</div>"
      ],
      "text/plain": [
       "       Average size of dwellings [square metre]  Average price per m² [EUR]  \\\n",
       "count                                169.000000                  169.000000   \n",
       "mean                                  55.261031                 1254.245325   \n",
       "std                                    5.331891                  423.102095   \n",
       "min                                   37.000000                  430.400000   \n",
       "25%                                   54.500000                 1145.120000   \n",
       "50%                                   54.985714                 1243.510000   \n",
       "75%                                   54.985714                 1243.510000   \n",
       "max                                   81.500000                 4207.355000   \n",
       "\n",
       "       Price of average size dwellings  \n",
       "count                       169.000000  \n",
       "mean                      69688.998846  \n",
       "std                       29608.701101  \n",
       "min                       32310.590000  \n",
       "25%                       60069.505000  \n",
       "50%                       68375.210000  \n",
       "75%                       68375.210000  \n",
       "max                      294460.670000  "
      ]
     },
     "execution_count": 163,
     "metadata": {},
     "output_type": "execute_result"
    }
   ],
   "source": [
    "#review data\n",
    "\n",
    "summary_data.describe()\n"
   ]
  },
  {
   "cell_type": "code",
   "execution_count": 164,
   "metadata": {},
   "outputs": [
    {
     "data": {
      "text/plain": [
       "count      23.00\n",
       "mean     1944.35\n",
       "std       775.89\n",
       "min      1265.01\n",
       "25%      1372.92\n",
       "50%      1774.19\n",
       "75%      2116.09\n",
       "max      4207.35\n",
       "Name: Average price per m² [EUR], dtype: float64"
      ]
     },
     "execution_count": 164,
     "metadata": {},
     "output_type": "execute_result"
    }
   ],
   "source": [
    "summary_data[summary_data['Average price per m² [EUR]'] > summary_data['Average price per m² [EUR]'].mean()]['Average price per m² [EUR]'].describe().round(2)"
   ]
  },
  {
   "cell_type": "code",
   "execution_count": 167,
   "metadata": {},
   "outputs": [],
   "source": [
    "def filter_outliers(df: pd.DataFrame):\n",
    "    mean_price = df['Average price per m² [EUR]'].mean()\n",
    "    std_price = df['Average price per m² [EUR]'].std()\n",
    "    filtered_df = df[(df['Average price per m² [EUR]'] <= (mean_price + std_price)) & (df['Average price per m² [EUR]'] > (mean_price - std_price))]\n",
    "    return filtered_df  \n"
   ]
  },
  {
   "cell_type": "code",
   "execution_count": 168,
   "metadata": {},
   "outputs": [],
   "source": [
    "df_without_outliners = filter_outliers(summary_data)"
   ]
  },
  {
   "cell_type": "code",
   "execution_count": null,
   "metadata": {},
   "outputs": [],
   "source": []
  }
 ],
 "metadata": {
  "kernelspec": {
   "display_name": "venv",
   "language": "python",
   "name": "python3"
  },
  "language_info": {
   "codemirror_mode": {
    "name": "ipython",
    "version": 3
   },
   "file_extension": ".py",
   "mimetype": "text/x-python",
   "name": "python",
   "nbconvert_exporter": "python",
   "pygments_lexer": "ipython3",
   "version": "3.11.0"
  }
 },
 "nbformat": 4,
 "nbformat_minor": 2
}
